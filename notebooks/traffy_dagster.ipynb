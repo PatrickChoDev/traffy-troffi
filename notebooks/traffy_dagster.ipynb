{
 "cells": [
  {
   "cell_type": "code",
   "execution_count": null,
   "id": "initial_id",
   "metadata": {
    "collapsed": true
   },
   "outputs": [],
   "source": [
    "import pandas as pd\n",
    "\n",
    "import dagster as dg\n",
    "\n",
    "TRAFFY_CSV = \"../data/bangkok_traffy.csv\"\n",
    "\n",
    "@dg.asset\n",
    "def processed_data(path: str):\n",
    "    ## Read data from the CSV\n",
    "    df = pd.read_csv(path)\n",
    "\n",
    "    ## Add an age_group column based on the value of age\n",
    "    df[\"age_group\"] = pd.cut(\n",
    "        df[\"age\"], bins=[0, 30, 40, 100], labels=[\"Young\", \"Middle\", \"Senior\"]\n",
    "    )\n",
    "\n",
    "    ## Save processed data\n",
    "    df.to_csv(\"data/processed_data.csv\", index=False)\n",
    "    return \"Data loaded successfully\"\n",
    "\n",
    "\n",
    "## Tell Dagster about the assets that make up the pipeline by\n",
    "## passing it to the Definitions object\n",
    "## This allows Dagster to manage the assets' execution and dependencies\n",
    "defs = dg.Definitions(assets=[processed_data])"
   ]
  }
 ],
 "metadata": {
  "kernelspec": {
   "display_name": "Python 3",
   "language": "python",
   "name": "python3"
  },
  "language_info": {
   "codemirror_mode": {
    "name": "ipython",
    "version": 2
   },
   "file_extension": ".py",
   "mimetype": "text/x-python",
   "name": "python",
   "nbconvert_exporter": "python",
   "pygments_lexer": "ipython2",
   "version": "2.7.6"
  }
 },
 "nbformat": 4,
 "nbformat_minor": 5
}
