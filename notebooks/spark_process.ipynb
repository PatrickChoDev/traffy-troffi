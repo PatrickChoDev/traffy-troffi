{
 "cells": [
  {
   "metadata": {
    "ExecuteTime": {
     "end_time": "2025-05-07T07:39:22.113652Z",
     "start_time": "2025-05-07T07:39:22.104406Z"
    }
   },
   "cell_type": "code",
   "source": [
    "%load_ext dotenv\n",
    "%dotenv"
   ],
   "id": "bbd5212737d98758",
   "outputs": [],
   "execution_count": 1
  },
  {
   "metadata": {
    "ExecuteTime": {
     "end_time": "2025-05-07T07:39:22.267210Z",
     "start_time": "2025-05-07T07:39:22.211829Z"
    }
   },
   "cell_type": "code",
   "source": [
    "import logging\n",
    "from typing import Optional\n",
    "\n",
    "from pyspark.sql import SparkSession\n",
    "\n",
    "# Setup basic logging\n",
    "logging.basicConfig(level=logging.INFO)\n",
    "logger = logging.getLogger(__name__)\n",
    "\n",
    "\n",
    "class SimpleSparkSession:\n",
    "    \"\"\"Simple Spark session builder for Jupyter notebooks\"\"\"\n",
    "\n",
    "    def __init__(\n",
    "            self,\n",
    "            app_name=\"Jupyter Spark Session\",\n",
    "            master=\"local[*]\",\n",
    "            spark_config=None,\n",
    "            enable_hive_support=False,\n",
    "            # S3 configuration\n",
    "            s3_bucket_name=None,\n",
    "            s3_endpoint=None,\n",
    "            s3_access_key=None,\n",
    "            s3_secret_key=None,\n",
    "            s3_region=\"us-east-1\",\n",
    "            s3_path_style_access=True,\n",
    "            # PostgreSQL configuration\n",
    "            postgres_config=None,\n",
    "            # Package configuration\n",
    "            packages=None\n",
    "    ):\n",
    "        self.app_name = app_name\n",
    "        self.master = master\n",
    "        self.spark_config = spark_config or {}\n",
    "        self.enable_hive_support = enable_hive_support\n",
    "\n",
    "        # S3 config\n",
    "        self.s3_bucket_name = s3_bucket_name\n",
    "        self.s3_endpoint = s3_endpoint\n",
    "        self.s3_access_key = s3_access_key\n",
    "        self.s3_secret_key = s3_secret_key\n",
    "        self.s3_region = s3_region\n",
    "        self.s3_path_style_access = s3_path_style_access\n",
    "\n",
    "        # PostgreSQL config\n",
    "        self.postgres_config = postgres_config\n",
    "        self.jdbc_driver_path: Optional[str] = None\n",
    "\n",
    "        # Packages\n",
    "        self.packages = packages or []\n",
    "\n",
    "        self._session = None\n",
    "\n",
    "    def build_session(self):\n",
    "        \"\"\"Build and return a SparkSession\"\"\"\n",
    "        if self._session is not None:\n",
    "            return self._session\n",
    "\n",
    "        # Start building the session\n",
    "        builder = SparkSession.builder.appName(self.app_name).master(self.master)\n",
    "\n",
    "        builder = builder.config(\"spark.sql.execution.arrow.pyspark.enabled\", \"true\") \\\n",
    "            .config(\"spark.driver.extraJavaOptions\", \"-Djava.security.manager=allow\") \\\n",
    "            .config(\"spark.executor.extraJavaOptions\", \"-Djava.security.manager=allow\") \\\n",
    " \\\n",
    "            # Add Hive support if requested\n",
    "        if self.enable_hive_support:\n",
    "            builder = builder.enableHiveSupport()\n",
    "\n",
    "        if self.jdbc_driver_path:\n",
    "            builder = builder.config(\"spark.driver.extraClassPath\", self.jdbc_driver_path)\n",
    "            builder = builder.config(\"spark.executor.extraClassPath\", self.jdbc_driver_path)\n",
    "\n",
    "        # Add all configuration options\n",
    "        for key, value in self.spark_config.items():\n",
    "            builder = builder.config(key, value)\n",
    "\n",
    "        # Configure packages\n",
    "        if self.packages:\n",
    "            packages = \",\".join(self.packages)\n",
    "            builder = builder.config(\"spark.jars.packages\", packages)\n",
    "\n",
    "        # Add S3 configuration if credentials provided\n",
    "        if self.s3_access_key and self.s3_secret_key:\n",
    "            builder = builder.config(\"spark.hadoop.fs.s3a.access.key\", self.s3_access_key)\n",
    "            builder = builder.config(\"spark.hadoop.fs.s3a.secret.key\", self.s3_secret_key)\n",
    "            builder = builder.config(\"spark.hadoop.fs.s3a.aws.credentials.provider\",\n",
    "                                     \"org.apache.hadoop.fs.s3a.SimpleAWSCredentialsProvider\")\n",
    "\n",
    "            # Config for non-AWS S3\n",
    "            if self.s3_endpoint:\n",
    "                builder = builder.config(\"spark.hadoop.fs.s3a.endpoint\", self.s3_endpoint)\n",
    "                builder = builder.config(\"spark.hadoop.fs.s3a.endpoint.region\", self.s3_region)\n",
    "\n",
    "            # Path style access for non-AWS implementations\n",
    "            if self.s3_path_style_access:\n",
    "                builder = builder.config(\"spark.hadoop.fs.s3a.path.style.access\", \"true\")\n",
    "                builder = builder.config(\"spark.hadoop.fs.s3a.connection.ssl.enabled\", \"false\")\n",
    "                builder = builder.config(\"spark.hadoop.fs.s3a.impl\", \"org.apache.hadoop.fs.s3a.S3AFileSystem\")\n",
    "                builder = builder.config(\"spark.hadoop.fs.s3a.multiobjectdelete.enable\", \"false\")\n",
    "\n",
    "        # Build the session\n",
    "        logger.info(f\"Building Spark session with app name: {self.app_name}, master: {self.master}\")\n",
    "        self._session = builder.getOrCreate()\n",
    "\n",
    "        return self._session\n",
    "\n",
    "    def get_session(self):\n",
    "        \"\"\"Get the current SparkSession or create a new one\"\"\"\n",
    "        return self.build_session()\n",
    "\n",
    "    def stop_session(self):\n",
    "        \"\"\"Stop the current Spark session if it exists\"\"\"\n",
    "        if self._session is not None:\n",
    "            self._session.stop()\n",
    "            self._session = None\n",
    "            logger.info(\"Spark session stopped\")"
   ],
   "id": "767abb7a7b2e068c",
   "outputs": [],
   "execution_count": 2
  },
  {
   "metadata": {
    "ExecuteTime": {
     "end_time": "2025-05-07T07:39:22.276142Z",
     "start_time": "2025-05-07T07:39:22.274031Z"
    }
   },
   "cell_type": "code",
   "source": [
    "import os\n",
    "\n",
    "os.getenv(\"POSTGRES_HOST\")"
   ],
   "id": "586cbac9ecc3b1f",
   "outputs": [
    {
     "data": {
      "text/plain": [
       "'localhost'"
      ]
     },
     "execution_count": 3,
     "metadata": {},
     "output_type": "execute_result"
    }
   ],
   "execution_count": 3
  },
  {
   "metadata": {
    "ExecuteTime": {
     "end_time": "2025-05-07T07:39:24.817516Z",
     "start_time": "2025-05-07T07:39:22.288252Z"
    }
   },
   "cell_type": "code",
   "source": [
    "spark = SimpleSparkSession(\n",
    "    app_name=\"Data Analysis Notebook\",\n",
    "    packages=[\n",
    "        \"org.postgresql:postgresql:42.5.4\",\n",
    "        \"org.apache.hadoop:hadoop-aws:3.3.4\",\n",
    "        \"com.amazonaws:aws-java-sdk-bundle:1.12.426\"\n",
    "    ],\n",
    "    s3_access_key=os.getenv(\"S3_ACCESS_KEY\"),\n",
    "    s3_secret_key=os.getenv(\"S3_SECRET_KEY\"),\n",
    "    s3_endpoint=os.getenv(\"S3_ENDPOINT\"),\n",
    "    s3_region=\"garage\",\n",
    "    s3_path_style_access=True,\n",
    "    postgres_config={\n",
    "        \"user\": os.getenv(\"POSTGRES_USER\"),\n",
    "        \"password\": os.getenv(\"POSTGRES_PASSWORD\"),\n",
    "        \"driver\": \"org.postgresql.Driver\",\n",
    "        \"currentSchema\": \"public\"\n",
    "    },\n",
    "    enable_hive_support=False,\n",
    "    s3_bucket_name=\"traffy-troffi\"\n",
    ").get_session()"
   ],
   "id": "486ef07731951abd",
   "outputs": [
    {
     "name": "stderr",
     "output_type": "stream",
     "text": [
      "INFO:__main__:Building Spark session with app name: Data Analysis Notebook, master: local[*]\n",
      "25/05/07 14:39:23 WARN Utils: Your hostname, PatrickChoDevMacbook.local resolves to a loopback address: 127.0.0.1; using 192.168.158.3 instead (on interface en0)\n",
      "25/05/07 14:39:23 WARN Utils: Set SPARK_LOCAL_IP if you need to bind to another address\n",
      "Ivy Default Cache set to: /Users/patrick/.ivy2/cache\n",
      "The jars for the packages stored in: /Users/patrick/.ivy2/jars\n",
      "org.postgresql#postgresql added as a dependency\n",
      "org.apache.hadoop#hadoop-aws added as a dependency\n",
      "com.amazonaws#aws-java-sdk-bundle added as a dependency\n",
      ":: resolving dependencies :: org.apache.spark#spark-submit-parent-cf039ce8-a28c-4aa0-94f3-91d4f2c05b4a;1.0\n",
      "\tconfs: [default]\n",
      "\tfound org.postgresql#postgresql;42.5.4 in central\n",
      "\tfound org.checkerframework#checker-qual;3.5.0 in central\n",
      "\tfound org.apache.hadoop#hadoop-aws;3.3.4 in central\n"
     ]
    },
    {
     "name": "stdout",
     "output_type": "stream",
     "text": [
      ":: loading settings :: url = jar:file:/Users/patrick/Desktop/Workspace/Projects/traffy-troffi/.venv/lib/python3.12/site-packages/pyspark/jars/ivy-2.5.1.jar!/org/apache/ivy/core/settings/ivysettings.xml\n"
     ]
    },
    {
     "name": "stderr",
     "output_type": "stream",
     "text": [
      "\tfound org.wildfly.openssl#wildfly-openssl;1.0.7.Final in central\n",
      "\tfound com.amazonaws#aws-java-sdk-bundle;1.12.426 in central\n",
      ":: resolution report :: resolve 119ms :: artifacts dl 4ms\n",
      "\t:: modules in use:\n",
      "\tcom.amazonaws#aws-java-sdk-bundle;1.12.426 from central in [default]\n",
      "\torg.apache.hadoop#hadoop-aws;3.3.4 from central in [default]\n",
      "\torg.checkerframework#checker-qual;3.5.0 from central in [default]\n",
      "\torg.postgresql#postgresql;42.5.4 from central in [default]\n",
      "\torg.wildfly.openssl#wildfly-openssl;1.0.7.Final from central in [default]\n",
      "\t:: evicted modules:\n",
      "\tcom.amazonaws#aws-java-sdk-bundle;1.12.262 by [com.amazonaws#aws-java-sdk-bundle;1.12.426] in [default]\n",
      "\t---------------------------------------------------------------------\n",
      "\t|                  |            modules            ||   artifacts   |\n",
      "\t|       conf       | number| search|dwnlded|evicted|| number|dwnlded|\n",
      "\t---------------------------------------------------------------------\n",
      "\t|      default     |   6   |   0   |   0   |   1   ||   5   |   0   |\n",
      "\t---------------------------------------------------------------------\n",
      ":: retrieving :: org.apache.spark#spark-submit-parent-cf039ce8-a28c-4aa0-94f3-91d4f2c05b4a\n",
      "\tconfs: [default]\n",
      "\t0 artifacts copied, 5 already retrieved (0kB/2ms)\n",
      "25/05/07 14:39:23 WARN NativeCodeLoader: Unable to load native-hadoop library for your platform... using builtin-java classes where applicable\n",
      "Setting default log level to \"WARN\".\n",
      "To adjust logging level use sc.setLogLevel(newLevel). For SparkR, use setLogLevel(newLevel).\n"
     ]
    }
   ],
   "execution_count": 4
  },
  {
   "metadata": {
    "ExecuteTime": {
     "end_time": "2025-05-07T07:39:26.239224Z",
     "start_time": "2025-05-07T07:39:24.823039Z"
    }
   },
   "cell_type": "code",
   "source": [
    "df = spark.read.csv(\"s3a://traffy-troffi/traffy/fondue/traffy_fondue_latest.csv\", header=True, multiLine=True,\n",
    "                    mode=\"DROPMALFORMED\")"
   ],
   "id": "55c0ca33863d606e",
   "outputs": [
    {
     "name": "stderr",
     "output_type": "stream",
     "text": [
      "25/05/07 14:39:25 WARN MetricsConfig: Cannot locate configuration: tried hadoop-metrics2-s3a-file-system.properties,hadoop-metrics2.properties\n"
     ]
    }
   ],
   "execution_count": 5
  },
  {
   "metadata": {
    "ExecuteTime": {
     "end_time": "2025-05-07T07:39:26.258441Z",
     "start_time": "2025-05-07T07:39:26.255903Z"
    }
   },
   "cell_type": "code",
   "source": "df.printSchema()",
   "id": "8c28560fe2ba4ee3",
   "outputs": [
    {
     "name": "stdout",
     "output_type": "stream",
     "text": [
      "root\n",
      " |-- ticket_id: string (nullable = true)\n",
      " |-- type: string (nullable = true)\n",
      " |-- organization: string (nullable = true)\n",
      " |-- comment: string (nullable = true)\n",
      " |-- photo: string (nullable = true)\n",
      " |-- photo_after: string (nullable = true)\n",
      " |-- coords: string (nullable = true)\n",
      " |-- address: string (nullable = true)\n",
      " |-- subdistrict: string (nullable = true)\n",
      " |-- district: string (nullable = true)\n",
      " |-- province: string (nullable = true)\n",
      " |-- timestamp: string (nullable = true)\n",
      " |-- state: string (nullable = true)\n",
      " |-- star: string (nullable = true)\n",
      " |-- count_reopen: string (nullable = true)\n",
      " |-- last_activity: string (nullable = true)\n",
      "\n"
     ]
    }
   ],
   "execution_count": 6
  },
  {
   "metadata": {
    "ExecuteTime": {
     "end_time": "2025-05-07T07:39:27.007873Z",
     "start_time": "2025-05-07T07:39:26.386368Z"
    }
   },
   "cell_type": "code",
   "source": "df.show(20)",
   "id": "5cf08c8ea7f2cd0b",
   "outputs": [
    {
     "name": "stdout",
     "output_type": "stream",
     "text": [
      "+-----------+--------------------+--------------------+--------------------+--------------------+--------------------+------------------+--------------------+-----------+--------+-------------+--------------------+--------------+----+------------+--------------------+\n",
      "|  ticket_id|                type|        organization|             comment|               photo|         photo_after|            coords|             address|subdistrict|district|     province|           timestamp|         state|star|count_reopen|       last_activity|\n",
      "+-----------+--------------------+--------------------+--------------------+--------------------+--------------------+------------------+--------------------+-----------+--------+-------------+--------------------+--------------+----+------------+--------------------+\n",
      "|2021-FYJTFP|         {ความสะอาด}|          เขตบางซื่อ|             ขยะเยอะ|https://storage.g...|                NULL|100.53084,13.81865|12/14 ถนน กรุงเทพ...|       NULL|    NULL|กรุงเทพมหานคร|2021-09-03 12:51:...|     เสร็จสิ้น|NULL|           0|2022-06-04 15:34:...|\n",
      "|2021-CGPMUN| {น้ำท่วม,ร้องเรียน}|เขตประเวศ,ฝ่ายโยธ...|น้ำท่วมเวลาฝนตกแล...|https://storage.g...|https://storage.g...|100.66709,13.67891|189 เฉลิมพระเกียร...|    หนองบอน|  ประเวศ|กรุงเทพมหานคร|2021-09-19 14:56:...|     เสร็จสิ้น|   4|           0|2022-06-21 08:21:...|\n",
      "|2021-7XATFA|             {สะพาน}|             เขตสาทร|สะพานลอยปรับปรุงไ...|https://storage.g...|                NULL|100.52649,13.72060|191/1 ถนน สาทรเหน...|    ยานนาวา|    สาทร|กรุงเทพมหานคร|2021-09-26 05:03:...|     เสร็จสิ้น|NULL|           0|2022-06-06 01:17:...|\n",
      "|2021-9U2NJT|           {น้ำท่วม}|เขตบางซื่อ,ฝ่ายโย...|             น้ำท่วม|https://storage.g...|https://storage.g...|100.53099,13.81853|12/14 ถนน กรุงเทพ...|       NULL|    NULL|กรุงเทพมหานคร|2021-10-14 10:45:...|     เสร็จสิ้น|NULL|           0|2022-09-08 08:35:...|\n",
      "|2021-DVEWYM|       {น้ำท่วม,ถนน}|เขตลาดพร้าว,ฝ่ายโ...|ซอยลาดพร้าววังหิน...|https://storage.g...|                NULL|100.59165,13.82280|702 ถ. ลาดพร้าววั...|   ลาดพร้าว|ลาดพร้าว|กรุงเทพมหานคร|2021-12-09 12:29:...|     เสร็จสิ้น|   5|           0|2022-08-12 07:18:...|\n",
      "|2021-4D9Y98|                  {}|เขตลาดพร้าว,การไฟ...|หน้าปากซอย ลาดพร้...|https://storage.g...|https://storage.g...|100.59131,13.80910|17/73 17/73 ถ. ลา...|   ลาดพร้าว|ลาดพร้าว|กรุงเทพมหานคร|2021-12-13 05:53:...|     เสร็จสิ้น|NULL|           0|2023-03-14 12:09:...|\n",
      "|2021-7U9RED|                  {}|            เขตดุสิต|ยังไม่มีหน่วยงานไ...|https://storage.g...|https://storage.g...|100.50848,13.77832|627 ถนนสามเสน แขว...|      ดุสิต|   ดุสิต|กรุงเทพมหานคร|2021-12-17 08:46:...|     เสร็จสิ้น|   5|           0|2023-05-17 06:11:...|\n",
      "|2021-8N9ZP8|         {ความสะอาด}|เขตประเวศ,ฝ่ายเทศ...|คนเอาขยะมาทิ้งจนก...|https://storage.g...|https://storage.g...|100.64690,13.67083|110 ซอย มีสุข แขว...|    หนองบอน|  ประเวศ|กรุงเทพมหานคร|2021-12-18 14:50:...|     เสร็จสิ้น|   2|           0|2024-11-26 04:17:...|\n",
      "|2021-7K6QA3|                  {}|เขตประเวศ,ฝ่ายเทศ...|ระยะหลังๆ นี้ พบเ...|https://storage.g...|https://storage.g...|100.65617,13.72812|208/22 ถ. พัฒนากา...|     ประเวศ|  ประเวศ|กรุงเทพมหานคร|2021-12-21 23:03:...|     เสร็จสิ้น|   2|           0|2022-06-24 06:32:...|\n",
      "|2021-8BTWZB|       {ท่อระบายน้ำ}|เขตประเวศ,ฝ่ายโยธ...|ขอแจ้งเรื่องท่อระ...|https://storage.g...|https://storage.g...|100.65440,13.68158|70 ซอย เฉลิมพระเก...|    หนองบอน|  ประเวศ|กรุงเทพมหานคร|2021-12-22 10:15:...|     เสร็จสิ้น|   5|           0|2022-06-20 13:12:...|\n",
      "|2021-AKJBCU|                  {}|เขตประเวศ,ฝ่ายโยธ...|แจ้งเรื่องพื้นผิว...|https://storage.g...|https://storage.g...|100.64844,13.68735|55 ถนน ศรีนครินทร...|    หนองบอน|  ประเวศ|กรุงเทพมหานคร|2021-12-23 10:26:...|     เสร็จสิ้น|NULL|           0|2022-09-28 08:35:...|\n",
      "|2021-EQWYWT|         {ความสะอาด}|เขตประเวศ,สำนักสิ...|ปัญหากลิ่นขยะจากโ...|https://storage.g...|https://storage.g...|100.68837,13.71887|22/1 ซอย อ่อนนุช ...|     ประเวศ|  ประเวศ|กรุงเทพมหานคร|2021-12-28 03:59:...|     เสร็จสิ้น|   4|           0|2022-07-12 06:50:...|\n",
      "|2022-7ZTKJV|       {ถนน,ทางเท้า}|เขตสาทร,ฝ่ายโยธา ...|บริเวณนราธิวาส  แ...|https://storage.g...|https://storage.g...|100.53764,13.70716|แยกจันทน์-นราธิวา...| ทุ่งมหาเมฆ|    สาทร|กรุงเทพมหานคร|2022-01-02 10:53:...|     เสร็จสิ้น|NULL|           0|2022-06-08 05:46:...|\n",
      "|2022-E24G76|                  {}|เขตสาทร,ฝ่ายเทศกิ...|มอเตอร์ไซด์จอดบนท...|https://storage.g...|https://storage.g...|100.52674,13.70950|184 ซอย จันทน์ 18...| ทุ่งวัดดอน|    สาทร|กรุงเทพมหานคร|2022-01-14 01:17:...|     เสร็จสิ้น|NULL|           0|2022-06-22 08:06:...|\n",
      "|2022-C37YCA|                  {}|เขตสาทร,ฝ่ายเทศกิ...|มอเตอร์ไซด์จอดบนถ...|https://storage.g...|                NULL|100.52678,13.70967|184 ซอย จันทน์ 18...| ทุ่งวัดดอน|    สาทร|กรุงเทพมหานคร|2022-01-14 01:18:...|     เสร็จสิ้น|NULL|           0|2022-06-22 08:10:...|\n",
      "|2022-HB7Z8A|{ท่อระบายน้ำ,ทางเ...|เขตสาทร,สำนักการร...|ทางเท้าช่วง จันทน...|https://storage.g...|                NULL|100.53025,13.70566|1357/1-4 ซอย จันท...| ทุ่งวัดดอน|    สาทร|กรุงเทพมหานคร|2022-01-14 01:32:...|กำลังดำเนินการ|NULL|           0|2022-09-15 15:51:...|\n",
      "|2022-8EW3HK|                  {}|เขตประเวศ,สำนักสิ...|อยากให้สวนหลวง ร9...|https://storage.g...|https://storage.g...|100.65816,13.68814|444 ซอย หมู่บ้านเ...|    หนองบอน|  ประเวศ|กรุงเทพมหานคร|2022-01-15 12:52:...|     เสร็จสิ้น|NULL|           0|2022-06-20 07:12:...|\n",
      "|2022-8PL3NK|         {ถนน,สะพาน}|เขตสาทร,สำนักการจ...|ถนนจันทน์ช่วงสะพา...|https://storage.g...|https://storage.g...|100.52970,13.70569|1357/1-4 ซอย จันท...| ทุ่งวัดดอน|    สาทร|กรุงเทพมหานคร|2022-01-16 10:57:...|     เสร็จสิ้น|NULL|           0|2023-08-18 06:52:...|\n",
      "|2022-98YDNN|                  {}|             เขตสาทร|ปากซอย จันทน์ 18/...|https://storage.g...|https://storage.g...|100.52789,13.70611|3 ซอย จันทน์ 18/4...| ทุ่งวัดดอน|    สาทร|กรุงเทพมหานคร|2022-01-16 11:02:...|     เสร็จสิ้น|NULL|           0|2022-06-09 03:49:...|\n",
      "|2022-GNTHRA|             {สะพาน}|เขตสาทร,ฝ่ายเทศกิ...|ริมถนน ตรงสะพานสา...|https://storage.g...|                NULL|100.52760,13.70615|3 ซอย จันทน์ 18/4...| ทุ่งวัดดอน|    สาทร|กรุงเทพมหานคร|2022-01-16 11:08:...|     เสร็จสิ้น|NULL|           0|2022-06-23 08:06:...|\n",
      "+-----------+--------------------+--------------------+--------------------+--------------------+--------------------+------------------+--------------------+-----------+--------+-------------+--------------------+--------------+----+------------+--------------------+\n",
      "only showing top 20 rows\n",
      "\n"
     ]
    }
   ],
   "execution_count": 7
  },
  {
   "metadata": {
    "ExecuteTime": {
     "end_time": "2025-05-07T07:39:27.049255Z",
     "start_time": "2025-05-07T07:39:27.047978Z"
    }
   },
   "cell_type": "code",
   "source": "# spark.stop()",
   "id": "2d6eed1eeab62949",
   "outputs": [],
   "execution_count": 8
  },
  {
   "metadata": {
    "ExecuteTime": {
     "end_time": "2025-05-07T07:39:27.182226Z",
     "start_time": "2025-05-07T07:39:27.069882Z"
    }
   },
   "cell_type": "code",
   "source": [
    "from pyspark.sql import functions as F\n",
    "\n",
    "processed_df = df.filter((F.col('state') == 'เสร็จสิ้น') & (F.col(\"photo_after\").isNotNull())).select(\n",
    "    df['ticket_id'].alias(\"ticket_id\"),\n",
    "    df[\"comment\"].alias(\"complaint\"),\n",
    "    F.to_timestamp(F.regexp_replace(F.col(\"last_activity\").cast(\"string\"), \"\\\\+\\\\d{2}$\", \"\")).alias(\"timestamp\"),\n",
    "    df[\"photo\"].alias(\"image\"),\n",
    "    df[\"photo_after\"].alias(\"image_after\"),\n",
    "    df[\"type\"],\n",
    "    # Parse coordinates to separate lat/long fields\n",
    "    F.expr(\"cast(split(coords, ',')[1] as double)\").alias(\"latitude\"),\n",
    "    F.expr(\"cast(split(coords, ',')[0] as double)\").alias(\"longitude\"),\n",
    "    df[\"district\"].alias(\"district\"),\n",
    "    df[\"subdistrict\"].alias(\"subdistrict\"),\n",
    ").withColumn(\n",
    "    \"extracted_content\",\n",
    "    F.regexp_extract(F.col(\"type\"), \"\\\\{(.+)\\\\}\", 1)\n",
    ").withColumn(\n",
    "    \"categories\",\n",
    "    F.split(F.col(\"extracted_content\"), \",\")\n",
    ").withColumn(\n",
    "    \"categories\",\n",
    "    F.transform(F.col(\"categories\"), lambda x: F.trim(x))\n",
    "    # Filter out empty strings\n",
    ").withColumn(\n",
    "    \"categories\",\n",
    "    F.expr(\"filter(categories, x -> x != '')\")\n",
    ").drop(\"extracted_content\", \"type\")"
   ],
   "id": "7f3e5de914462cf6",
   "outputs": [],
   "execution_count": 9
  },
  {
   "metadata": {
    "ExecuteTime": {
     "end_time": "2025-05-07T07:39:27.404434Z",
     "start_time": "2025-05-07T07:39:27.202064Z"
    }
   },
   "cell_type": "code",
   "source": "processed_df.sample(0.1).show(truncate=False)",
   "id": "8e619a8a26208b06",
   "outputs": [
    {
     "name": "stdout",
     "output_type": "stream",
     "text": [
      "+-----------+---------------------------------------------------------------------------------------------------------------------------------------------------------------------------------------------------------------------------------------------------------------------------------------------------------------------------------------------------------------------------------------------------------------------+--------------------------+-------------------------------------------------------------------------------------------------------------------+-------------------------------------------------------------------------------------------------------------------+--------+---------+---------+-----------+--------------+\n",
      "|ticket_id  |complaint                                                                                                                                                                                                                                                                                                                                                                                                            |timestamp                 |image                                                                                                              |image_after                                                                                                        |latitude|longitude|district |subdistrict|categories    |\n",
      "+-----------+---------------------------------------------------------------------------------------------------------------------------------------------------------------------------------------------------------------------------------------------------------------------------------------------------------------------------------------------------------------------------------------------------------------------+--------------------------+-------------------------------------------------------------------------------------------------------------------+-------------------------------------------------------------------------------------------------------------------+--------+---------+---------+-----------+--------------+\n",
      "|2021-4D9Y98|หน้าปากซอย ลาดพร้าววังหิน26                                                                                                                                                                                                                                                                                                                                                                                          |2023-03-14 12:09:14.947437|https://storage.googleapis.com/traffy_public_bucket/attachment/2021-12/ca219e4d42d3d86d8cdd013b044b705ebf8ce26b.jpg|https://storage.googleapis.com/traffy_public_bucket/attachment/2023-03/1678795752004.jpeg                          |13.8091 |100.59131|ลาดพร้าว |ลาดพร้าว   |[]            |\n",
      "|2021-7K6QA3|ระยะหลังๆ นี้ พบเจอรถสิบล้อขนดิน ใส่ยางบังโคลนยื่นออกจากตัวรถมากๆ จนดูน่าหวาดเสียวบนท้องถนนครับ อันนี้ไม่ทราบว่าเป็นข้อกำหนดให้รถบรรทุกต้องปฏิบัติตามหรือไม่อย่างไรครับ                                                                                                                                                                                                                                              |2022-06-24 06:32:34.671236|https://storage.googleapis.com/traffy_public_bucket/attachment/2021-12/4f591d59e56f7912b03059c9671208634c7f9c8f.jpg|https://storage.googleapis.com/traffy_public_bucket/attachment/2022-06/a10962f6b0d959682a0968833e9a112bd85337bc.jpg|13.72812|100.65617|ประเวศ   |ประเวศ     |[]            |\n",
      "|2022-8EW3HK|อยากให้สวนหลวง ร9 และ สวนสาธารณะอื่นๆ ใน กทม เปิดถึง 3 ทุ่ม พอจะเป็นไปได้ไหมครับ สวนหลวง ร9 ปิดทุ่มนึง เลิกงาน 5 โมง มาถึงสวนแป๊บเดียวสวนก็ปิดแล้ว ลงทุนไม่เยอะด้วย ใช้เป็น 1ในนโยบายหาเสียงได้เลยนะครับ                                                                                                                                                                                                             |2022-06-20 07:12:17.332913|https://storage.googleapis.com/traffy_public_bucket/attachment/2022-01/e71dbcc8c60226b506141a6fcae1b91e1f639302.jpg|https://storage.googleapis.com/traffy_public_bucket/attachment/2022-06/14b2a3e429200e85a797d8035fa9ce89c91ac5fa.png|13.68814|100.65816|ประเวศ   |หนองบอน    |[]            |\n",
      "|2022-BF7TYV|วินมอไซด์หน้าคอนโดฟิว ถนนจันทน์ จัดตั้งถูกต้อง อยู่บนทางเท้า ใช้ทางเท้าทั้งสองฝั่ง เช้าฝั่งหนึ่ง ตกบ่ายย้ายฝั่งหลบแดด                                                                                                                                                                                                                                                                                                |2022-06-22 08:14:15.037827|https://storage.googleapis.com/traffy_public_bucket/attachment/2022-01/9451d0dc4d01afea4dabd255dee82a25746f104b.jpg|https://storage.googleapis.com/traffy_public_bucket/attachment/2022-06/6614104d0f8bb8ca744f40874f8b78de5b0937dc.jpg|13.70561|100.53055|สาทร     |ทุ่งวัดดอน |[ถนน, ทางเท้า]|\n",
      "|2022-DMG79E|ขยะ                                                                                                                                                                                                                                                                                                                                                                                                                  |2023-05-17 05:16:34.660298|https://storage.googleapis.com/traffy_public_bucket/attachment/2022-01/4e72fb3b0add375d0c58ad4bbbcbd81c07d42495.jpg|https://storage.googleapis.com/traffy_public_bucket/attachment/2023-05/1684300565004.jpeg                          |13.75824|100.51523|ดุสิต    |สวนจิตรลดา |[ความสะอาด]   |\n",
      "|2022-FX8UWF|เเจ้งเรื่อง เสียงดังรบกวน\\nร้านวนิดา ขายของมือสอง ด้านหน้าทำเป็นร้านขายของ เเต่ด้านหลังร้านติดกับบ้านคน ทำกันเป็นโรงงาน อ๊อกเหล็ก เจียเหล็ก เสียงดังรบกวนกวนตั้งเเต่ 8 โมงเช้า จนถึง 5 โมงเย็นทุกวัน ตกกลางคืนเปิดกันขโมยเสียงดังลั่นตั้งเเต่ 2 ทุ่ม ถึง 8 โมงเช้า เป็นเวลา 4 ปี เเล้ว ในเขตบ้านพักอาศัยคน ชาวบ้านไม่ต้องหลับต้องนอน ไม่ได้รับการเเก้ไขใดๆทั้งสิ้น โทรไปสำนักงานเขต ก็ไม่รับผิดชอบใดๆ ไม่เคยส่งคนมาดู|2022-12-01 09:39:56.224334|https://storage.googleapis.com/traffy_public_bucket/attachment/2022-02/c37c62dc12445c8f4f2b909b63301d57e5e2b6e5.jpg|https://storage.googleapis.com/traffy_public_bucket/attachment/2022-12/1759bbab974bbc28be29583629b30b6ee4258f41.jpg|13.82443|100.59393|ลาดพร้าว |ลาดพร้าว   |[เสียงรบกวน]  |\n",
      "|2022-BRXJRY|ไม่มีไฟสัญญาณ #ทางม้าลาย                                                                                                                                                                                                                                                                                                                                                                                             |2024-03-05 11:53:11.867164|https://storage.googleapis.com/traffy_public_bucket/attachment/2022-02/fa71f30ebf41c4bb185b7ffb020081ff4e81b157.jpg|https://storage.googleapis.com/traffy_public_bucket/attachment/2022-02/d319c142f00bd5ae487a07908c61c9a96f2078d4.jpg|13.75313|100.62035|บางกะปิ  |หัวหมาก    |[]            |\n",
      "|2022-KM74Y8|1.ปัญหากลิ่นขยะรบกวน ช่วงเย็น-กลางคืน ผมใช้ app windy เพื่อดูทิศทางลม สันนิษฐานว่าน่าจะมาจาก โรงงานกำจัดขยะอ่อนนุช ครับ                                                                                                                                                                                                                                                                                              |2022-07-12 06:50:53.034493|https://storage.googleapis.com/traffy_public_bucket/attachment/2022-02/705c1973dd147f4a4eaee59254efe281deb3432d.jpg|https://storage.googleapis.com/traffy_public_bucket/attachment/2022-06/de054775f64d37a33930ef73ffe5d94e6cd88a22.jpg|13.68411|100.69788|ประเวศ   |ดอกไม้     |[ความสะอาด]   |\n",
      "|2022-F3XY4U|สีเส้นไม่ชัดเจน #ทางม้าลาย                                                                                                                                                                                                                                                                                                                                                                                           |2024-03-05 11:57:08.778675|https://storage.googleapis.com/traffy_public_bucket/attachment/2022-02/981adb20142f69cbb4dd937c3790fcc76aedf2d3.jpg|https://storage.googleapis.com/traffy_public_bucket/attachment/2022-03/38be34eda60b907ba74e79a4620a89355cd6fc69.jpg|13.78588|100.6755 |คันนายาว |รามอินทรา  |[]            |\n",
      "|2022-4RZC82|ทางเท้าชำรุด                                                                                                                                                                                                                                                                                                                                                                                                         |2024-03-13 04:52:21.170528|https://storage.googleapis.com/traffy_public_bucket/attachment/2022-03/6c8871f7e9355357321e412cac9dcb9b932598f5.jpg|https://storage.googleapis.com/traffy_public_bucket/attachment/2024-03/1710305538769.jpeg                          |13.76971|100.68543|สะพานสูง |สะพานสูง   |[ทางเท้า]     |\n",
      "|2022-3LQHW8|ติดป้ายหาเสียงเขตประเวศ                                                                                                                                                                                                                                                                                                                                                                                              |2022-06-13 05:51:41.144854|https://storage.googleapis.com/traffy_public_bucket/attachment/2022-03/d5b02974ac6502a9a2b6e2f070dfe1d8ec0812cb.jpg|https://storage.googleapis.com/traffy_public_bucket/attachment/2022-06/a88ffc6c348975a8955a6db3297003ba84b6383a.jpg|13.70064|100.64398|ประเวศ   |หนองบอน    |[]            |\n",
      "|2022-EQDQ87|ค่ะ ดูเหมือนจะซ่อมไปรอบนึงแล้ว ปูนยังเรียบกริ๊บอยู่เลยค่ะ แต่งงการซ่อม ทำไมยิ่งซ่อมยิ่งแย่ 😅                                                                                                                                                                                                                                                                                                                        |2024-07-04 07:13:07.142208|https://storage.googleapis.com/traffy_public_bucket/attachment/2022-04/7ec52fd59e81567d9195ae148d5c503f608325ec.jpg|https://storage.googleapis.com/traffy_public_bucket/attachment/2024-07/63956ea6df8c6ceb06b29e5a38096739.png        |13.76585|100.53855|พญาไท    |สามเสนใน   |[]            |\n",
      "|2022-K24PQV|พบรถมอเตอร์ไซค์จำนวนมากจอดรถบนทางเท้าเป็นประจำบริเวณหน้าปากซอยลาดพร้าว 1/1 ร้องเรียนไปทางเจ้าหน้าที่นานแล้วแต่หาได้มีการดำเนินการไม่                                                                                                                                                                                                                                                                                 |2024-04-17 09:30:06.275472|https://storage.googleapis.com/traffy_public_bucket/attachment/2022-04/ebb0f152b86b2d1ac0cfc16bd429011922f00c21.jpg|https://storage.googleapis.com/traffy_public_bucket/attachment/2024-03/1709699815679.jpeg                          |13.81171|100.5637 |จตุจักร  |จอมพล      |[]            |\n",
      "|2022-CQ9NCL|สำนักงานเขตดุสิต                                                                                                                                                                                                                                                                                                                                                                                                     |2023-05-17 05:06:04.794218|https://storage.googleapis.com/traffy_public_bucket/attachment/2022-04/d06c4dc128ad5210a54c986aefb5fb5766ff1bb2.jpg|https://storage.googleapis.com/traffy_public_bucket/attachment/2022-05/7baedc1fe823575bb7d245105d692f70154fca01.png|13.77315|100.50604|ดุสิต    |ดุสิต      |[]            |\n",
      "|2022-746HP4|พบเห็นป้ายหาเสียงตั้งขวางทางเท้า เหตุเกิดบนถนนพหลโยธิน หน้า Michelin Tyre Plus ฝั่งตรงข้ามเซ็นทรัลลาดพร้าว                                                                                                                                                                                                                                                                                                           |2024-04-17 09:29:37.881862|https://storage.googleapis.com/traffy_public_bucket/attachment/2022-05/0a6b39dcc34bed39214df3212531a4487ab663cf.jpg|https://storage.googleapis.com/traffy_public_bucket/attachment/2024-03/1709696344140.jpeg                          |13.81605|100.5615 |จตุจักร  |จอมพล      |[ทางเท้า]     |\n",
      "|2022-LTV2GB|https://goo.gl/maps/pDjcTkHKdm2RD98Y9                                                                                                                                                                                                                                                                                                                                                                                |2024-03-06 06:55:14.366043|https://storage.googleapis.com/traffy_public_bucket/attachment/2022-05/0e3287c1fa58bdc02c04b696d61ca4d42cc39820.jpg|https://storage.googleapis.com/traffy_public_bucket/attachment/2024-03/1709708112930.jpeg                          |13.70475|100.64547|ประเวศ   |หนองบอน    |[]            |\n",
      "|2022-4HQ8YY|พบปัญหาก่อสร้างถม เขตถนนสาธารณะในซอย ทำให้ถนนแคบลงการสันจรยากขึ้น นะครับ                                                                                                                                                                                                                                                                                                                                             |2024-03-06 13:51:50.320563|https://storage.googleapis.com/traffy_public_bucket/attachment/2022-05/9ab4c489086d35e02d66596e32be403000175f54.jpg|https://storage.googleapis.com/traffy_public_bucket/attachment/2024-03/1709733108817.jpeg                          |13.71732|100.4444 |ภาษีเจริญ|บางด้วน    |[ถนน]         |\n",
      "|2022-GZAKKK|ทางเท้าชำรุด                                                                                                                                                                                                                                                                                                                                                                                                         |2024-09-12 07:25:06.887492|https://storage.googleapis.com/traffy_public_bucket/attachment/2022-05/033fb4c2d31f876f1d105ab3e6304952aafdf1fd.jpg|https://storage.googleapis.com/traffy_public_bucket/attachment/2024-09/6179e21c691fcadbdd4c9900903862fd.jpg        |13.83535|100.57312|จตุจักร  |เสนานิคม   |[ทางเท้า]     |\n",
      "|2022-C2GEVR|ปรับปรุงทางเท้า ซอยประเสริฐมนูกิจ 18                                                                                                                                                                                                                                                                                                                                                                                 |2024-03-19 05:59:40.262983|https://storage.googleapis.com/traffy_public_bucket/attachment/2022-05/6676617cac0376cfe6891da06677e8301e8a458b.jpg|https://storage.googleapis.com/traffy_public_bucket/attachment/2024-03/02c52f10f122a1486352481cbe3cd84a.png        |13.83214|100.61098|ลาดพร้าว |จรเข้บัว   |[ทางเท้า]     |\n",
      "|2022-PH887V|จอดรถและวางสิ่งของกีดขวางถนน                                                                                                                                                                                                                                                                                                                                                                                         |2024-03-14 04:03:28.256038|https://storage.googleapis.com/traffy_public_bucket/attachment/2022-05/0abc49ff52a464b73d0081487a8cfc975b1f84ba.jpg|https://storage.googleapis.com/traffy_public_bucket/attachment/2024-03/1710389004679.jpeg                          |13.81727|100.53868|บางซื่อ  |บางซื่อ    |[กีดขวาง]     |\n",
      "+-----------+---------------------------------------------------------------------------------------------------------------------------------------------------------------------------------------------------------------------------------------------------------------------------------------------------------------------------------------------------------------------------------------------------------------------+--------------------------+-------------------------------------------------------------------------------------------------------------------+-------------------------------------------------------------------------------------------------------------------+--------+---------+---------+-----------+--------------+\n",
      "only showing top 20 rows\n",
      "\n"
     ]
    }
   ],
   "execution_count": 10
  },
  {
   "metadata": {
    "ExecuteTime": {
     "end_time": "2025-05-07T07:39:27.449083Z",
     "start_time": "2025-05-07T07:39:27.446730Z"
    }
   },
   "cell_type": "code",
   "source": "processed_df.printSchema()",
   "id": "7d7020a94c92eea",
   "outputs": [
    {
     "name": "stdout",
     "output_type": "stream",
     "text": [
      "root\n",
      " |-- ticket_id: string (nullable = true)\n",
      " |-- complaint: string (nullable = true)\n",
      " |-- timestamp: timestamp (nullable = true)\n",
      " |-- image: string (nullable = true)\n",
      " |-- image_after: string (nullable = true)\n",
      " |-- latitude: double (nullable = true)\n",
      " |-- longitude: double (nullable = true)\n",
      " |-- district: string (nullable = true)\n",
      " |-- subdistrict: string (nullable = true)\n",
      " |-- categories: array (nullable = true)\n",
      " |    |-- element: string (containsNull = false)\n",
      "\n"
     ]
    }
   ],
   "execution_count": 11
  },
  {
   "metadata": {
    "ExecuteTime": {
     "end_time": "2025-05-07T07:39:30.784945Z",
     "start_time": "2025-05-07T07:39:27.472103Z"
    }
   },
   "cell_type": "code",
   "source": "processed_df.count()",
   "id": "7742e6ce741bfc25",
   "outputs": [
    {
     "name": "stderr",
     "output_type": "stream",
     "text": [
      "                                                                                \r"
     ]
    },
    {
     "data": {
      "text/plain": [
       "618757"
      ]
     },
     "execution_count": 12,
     "metadata": {},
     "output_type": "execute_result"
    }
   ],
   "execution_count": 12
  },
  {
   "metadata": {
    "ExecuteTime": {
     "end_time": "2025-05-07T07:51:03.513688Z",
     "start_time": "2025-05-07T07:51:00.342375Z"
    }
   },
   "cell_type": "code",
   "source": [
    "from pyspark.sql import functions as F\n",
    "from pyspark.ml.feature import StringIndexer\n",
    "from pyspark.sql.functions import monotonically_increasing_id\n",
    "\n",
    "# Add unique ID to original data\n",
    "df_with_id = processed_df.withColumn(\"row_id\", monotonically_increasing_id())\n",
    "\n",
    "# Skip rows with empty categories arrays\n",
    "df_with_categories = df_with_id.filter(F.size(\"categories\") > 0)\n",
    "\n",
    "# Explode array with ID\n",
    "exploded = df_with_categories.select(\"row_id\", \"*\", F.explode(\"categories\").alias(\"category_item\"))\n",
    "\n",
    "# Filter out any remaining empty strings or nulls in category_item\n",
    "exploded = exploded.filter((F.col(\"category_item\") != \"\") & (F.col(\"category_item\").isNotNull()))\n",
    "\n",
    "# Fit indexer on unique categories only\n",
    "indexer = StringIndexer().setInputCol(\"category_item\").setOutputCol(\"category_idx\").fit(\n",
    "    exploded.select(\"category_item\").distinct())\n",
    "\n",
    "# Apply indexer\n",
    "indexed = indexer.transform(exploded)\n",
    "\n",
    "# Group back by ID to preserve the original structure while drop uncategorized\n",
    "result_df = indexed.groupBy(\"row_id\").agg(\n",
    "    *[F.first(c).alias(c) for c in df_with_id.columns if c != \"categories\" and c != \"row_id\"],\n",
    "    F.collect_list(\"category_item\").alias(\"categories\"),\n",
    "    F.collect_list(\"category_idx\").alias(\"categories_idx\")\n",
    ").drop(\"row_id\")\n",
    "\n",
    "# Re-add rows with empty categories that were filtered out (if you want to keep them)\n",
    "empty_categories = df_with_id.filter(F.size(\"categories\") == 0).drop(\"row_id\")"
   ],
   "id": "55abc86188756bec",
   "outputs": [
    {
     "name": "stderr",
     "output_type": "stream",
     "text": [
      "                                                                                \r"
     ]
    }
   ],
   "execution_count": 44
  },
  {
   "metadata": {
    "ExecuteTime": {
     "end_time": "2025-05-07T07:51:09.389658Z",
     "start_time": "2025-05-07T07:51:05.787389Z"
    }
   },
   "cell_type": "code",
   "source": "result_df.select(F.explode(\"categories\")).distinct().show(100)",
   "id": "2ce18e55700e013c",
   "outputs": [
    {
     "name": "stderr",
     "output_type": "stream",
     "text": [
      "[Stage 101:>                                                        (0 + 1) / 1]\r"
     ]
    },
    {
     "name": "stdout",
     "output_type": "stream",
     "text": [
      "+-----------+\n",
      "|        col|\n",
      "+-----------+\n",
      "|    ห้องน้ำ|\n",
      "|    คนจรจัด|\n",
      "| การเดินทาง|\n",
      "|      จราจร|\n",
      "|     สอบถาม|\n",
      "|  ป้ายจราจร|\n",
      "|    ทางเท้า|\n",
      "|ท่อระบายน้ำ|\n",
      "|        ถนน|\n",
      "|    กีดขวาง|\n",
      "|  ความสะอาด|\n",
      "|      สะพาน|\n",
      "|     ต้นไม้|\n",
      "|  ร้องเรียน|\n",
      "|    เสนอแนะ|\n",
      "| เสียงรบกวน|\n",
      "| สัตว์จรจัด|\n",
      "|ความปลอดภัย|\n",
      "|      สายไฟ|\n",
      "|   แสงสว่าง|\n",
      "|       คลอง|\n",
      "|    น้ำท่วม|\n",
      "|      PM2.5|\n",
      "|       ป้าย|\n",
      "+-----------+\n",
      "\n"
     ]
    },
    {
     "name": "stderr",
     "output_type": "stream",
     "text": [
      "                                                                                \r"
     ]
    }
   ],
   "execution_count": 45
  },
  {
   "metadata": {
    "ExecuteTime": {
     "end_time": "2025-05-07T07:51:16.983575Z",
     "start_time": "2025-05-07T07:51:09.424357Z"
    }
   },
   "cell_type": "code",
   "source": "result_df.show()",
   "id": "e5a6da4bbcb45da3",
   "outputs": [
    {
     "name": "stderr",
     "output_type": "stream",
     "text": [
      "[Stage 107:>                                                        (0 + 1) / 1]\r"
     ]
    },
    {
     "name": "stdout",
     "output_type": "stream",
     "text": [
      "+-----------+--------------------+--------------------+--------------------+--------------------+--------+---------+-----------+-----------+--------------------+-----------------+\n",
      "|  ticket_id|           complaint|           timestamp|               image|         image_after|latitude|longitude|   district|subdistrict|          categories|   categories_idx|\n",
      "+-----------+--------------------+--------------------+--------------------+--------------------+--------+---------+-----------+-----------+--------------------+-----------------+\n",
      "|2021-CGPMUN|น้ำท่วมเวลาฝนตกแล...|2022-06-21 08:21:...|https://storage.g...|https://storage.g...|13.67891|100.66709|     ประเวศ|    หนองบอน|[น้ำท่วม, ร้องเรียน]|     [12.0, 15.0]|\n",
      "|2022-FX8UWF|เเจ้งเรื่อง เสียง...|2022-12-01 09:39:...|https://storage.g...|https://storage.g...|13.82443|100.59393|   ลาดพร้าว|   ลาดพร้าว|        [เสียงรบกวน]|           [22.0]|\n",
      "|2022-9PH3BZ|1. ซ่อมสายไฟ กรีด...|2022-06-29 08:47:...|https://storage.g...|https://storage.g...| 13.7186|100.65286|     ประเวศ|     ประเวศ|    [ทางเท้า, สายไฟ]|     [10.0, 19.0]|\n",
      "|2022-6E7ANR|ในซอยไม่มีทางเท้า...|2024-03-06 02:34:...|https://storage.g...|https://storage.g...|13.67398|100.49442|ราษฎร์บูรณะ|   บางปะกอก|           [ทางเท้า]|           [10.0]|\n",
      "|2022-K3TZH9|ขยะถูกกองเอามาทิ้...|2024-03-06 06:21:...|https://storage.g...|https://storage.g...| 13.7122|100.42759|  ภาษีเจริญ|    บางหว้า|         [ความสะอาด]|            [6.0]|\n",
      "|2022-6D42VG|พื้นที่ทิ้งขยะเกะ...|2024-03-08 01:07:...|https://storage.g...|https://storage.g...|13.69068|100.61258|    พระโขนง|     บางจาก|           [ทางเท้า]|           [10.0]|\n",
      "|2022-48FAE2|เห็นเศษไม้ เศษก้อ...|2022-07-25 06:41:...|https://storage.g...|https://storage.g...|13.74958|100.53138|    ราชเทวี|ถนนเพชรบุรี|             [สะพาน]|           [17.0]|\n",
      "|2022-98WYHW|เส้นทางแยกบางโพ ม...|2022-10-17 08:55:...|https://storage.g...|https://storage.g...| 13.8065|100.52175|    บางซื่อ|    บางซื่อ|           [ทางเท้า]|           [10.0]|\n",
      "|2022-4KFBZ7|มีหน่วยงานมาขุดถน...|2022-06-17 01:57:...|https://storage.g...|https://storage.g...|13.79002|100.54732|      พญาไท|   สามเสนใน|               [ถนน]|            [9.0]|\n",
      "|2022-7QRRNZ|หมู่บ้าน The Cent...|2023-12-07 02:20:...|https://storage.g...|https://storage.g...|13.91011|100.67498|     สายไหม|     ออเงิน|      [น้ำท่วม, ถนน]|      [12.0, 9.0]|\n",
      "|2022-EHVH7T|ฟุตบาทไม่เรียบ ง่...|2023-02-13 10:43:...|https://storage.g...|https://storage.g...|13.81821| 100.5631|    จตุจักร|    จตุจักร|           [ทางเท้า]|           [10.0]|\n",
      "|2022-8L3UXR|แจ้งปรับปรุงทางเท...|2023-07-29 04:47:...|https://storage.g...|https://storage.g...|13.81542|100.56132|    จตุจักร|    จตุจักร|    [ทางเท้า, สายไฟ]|     [10.0, 19.0]|\n",
      "|2022-G6Z696|รถมอเตอร์ไซค์จอดข...|2022-06-16 07:17:...|https://storage.g...|https://storage.g...|13.77007|100.55942|     ดินแดง|     ดินแดง|           [กีดขวาง]|            [2.0]|\n",
      "|2022-EQBAEP|ชาวบ้านมักมาทิ้งข...|2022-06-22 15:24:...|https://storage.g...|https://storage.g...|13.75572|100.56312|     ดินแดง|     ดินแดง|         [ความสะอาด]|            [6.0]|\n",
      "|2022-N7YC9Q|  ขยะที่แยกสะพานควาย|2022-08-08 10:29:...|https://storage.g...|https://storage.g...| 13.7895|100.54805|      พญาไท|   สามเสนใน|  [ความสะอาด, สะพาน]|      [6.0, 17.0]|\n",
      "|2022-KT2PCC|ขอร้องเรื่องน้ำท่...|2022-06-10 11:46:...|https://storage.g...|https://storage.g...|13.91672|100.57644|   ดอนเมือง|   ดอนเมือง|[น้ำท่วม, ท่อระบา...|[12.0, 11.0, 9.0]|\n",
      "|2022-4H8DBZ|บริเวณสะพานลอยใกล...|2022-06-23 00:31:...|https://storage.g...|https://storage.g...|13.79517|100.55007|    จตุจักร|    จตุจักร|  [สะพาน, ความสะอาด]|      [17.0, 6.0]|\n",
      "|2022-AR2QAN|ช่วงเร่งคืนพื้นที...|2022-09-01 06:29:...|https://storage.g...|https://storage.g...|13.88035| 100.5884|    หลักสี่| ตลาดบางเขน|        [จราจร, ถนน]|       [7.0, 9.0]|\n",
      "|2022-AVFEK3|เละเทะมาเป็นปีๆเด...|2024-10-17 05:11:...|https://storage.g...|https://storage.g...|13.78817|100.49604|    บางพลัด|    บางพลัด|       [ความปลอดภัย]|            [5.0]|\n",
      "|2022-7QZ8W2|1. พื้นผิวถนนพระร...|2023-07-29 04:57:...|https://storage.g...|https://storage.g...|13.69344| 100.5473|    ยานนาวา|  ช่องนนทรี|               [ถนน]|            [9.0]|\n",
      "+-----------+--------------------+--------------------+--------------------+--------------------+--------+---------+-----------+-----------+--------------------+-----------------+\n",
      "only showing top 20 rows\n",
      "\n"
     ]
    },
    {
     "name": "stderr",
     "output_type": "stream",
     "text": [
      "                                                                                \r"
     ]
    }
   ],
   "execution_count": 46
  },
  {
   "metadata": {
    "ExecuteTime": {
     "end_time": "2025-05-07T07:51:17.110399Z",
     "start_time": "2025-05-07T07:51:17.030415Z"
    }
   },
   "cell_type": "code",
   "source": "empty_categories.show()",
   "id": "167de7bb61025894",
   "outputs": [
    {
     "name": "stdout",
     "output_type": "stream",
     "text": [
      "+-----------+--------------------+--------------------+--------------------+--------------------+--------+---------+-----------+-----------+----------+\n",
      "|  ticket_id|           complaint|           timestamp|               image|         image_after|latitude|longitude|   district|subdistrict|categories|\n",
      "+-----------+--------------------+--------------------+--------------------+--------------------+--------+---------+-----------+-----------+----------+\n",
      "|2021-4D9Y98|หน้าปากซอย ลาดพร้...|2023-03-14 12:09:...|https://storage.g...|https://storage.g...| 13.8091|100.59131|   ลาดพร้าว|   ลาดพร้าว|        []|\n",
      "|2021-7U9RED|ยังไม่มีหน่วยงานไ...|2023-05-17 06:11:...|https://storage.g...|https://storage.g...|13.77832|100.50848|      ดุสิต|      ดุสิต|        []|\n",
      "|2021-7K6QA3|ระยะหลังๆ นี้ พบเ...|2022-06-24 06:32:...|https://storage.g...|https://storage.g...|13.72812|100.65617|     ประเวศ|     ประเวศ|        []|\n",
      "|2021-AKJBCU|แจ้งเรื่องพื้นผิว...|2022-09-28 08:35:...|https://storage.g...|https://storage.g...|13.68735|100.64844|     ประเวศ|    หนองบอน|        []|\n",
      "|2022-E24G76|มอเตอร์ไซด์จอดบนท...|2022-06-22 08:06:...|https://storage.g...|https://storage.g...| 13.7095|100.52674|       สาทร| ทุ่งวัดดอน|        []|\n",
      "|2022-8EW3HK|อยากให้สวนหลวง ร9...|2022-06-20 07:12:...|https://storage.g...|https://storage.g...|13.68814|100.65816|     ประเวศ|    หนองบอน|        []|\n",
      "|2022-98YDNN|ปากซอย จันทน์ 18/...|2022-06-09 03:49:...|https://storage.g...|https://storage.g...|13.70611|100.52789|       สาทร| ทุ่งวัดดอน|        []|\n",
      "|2022-FNW2ER|       พื้นชำรุดครับ|2023-07-12 03:09:...|https://storage.g...|https://storage.g...| 13.9276|100.62674|     สายไหม|     สายไหม|        []|\n",
      "|2022-CGYXCQ|สีเส้นไม่ชัดเจน #...|2024-03-05 11:50:...|https://storage.g...|https://storage.g...|13.75541|100.54218|    ราชเทวี|   ถนนพญาไท|        []|\n",
      "|2022-7UDVXF|สีเส้นไม่ชัดเจน #...|2024-03-05 11:50:...|https://storage.g...|https://storage.g...| 13.7187|100.51875|     บางรัก|       สีลม|        []|\n",
      "|2022-6E4E8D|ไม่มีไฟสัญญาณ #ทา...|2024-03-05 11:51:...|https://storage.g...|https://storage.g...|13.74479|100.39562|      บางแค|     บางไผ่|        []|\n",
      "|2022-A6Z6RM|           พื้นชำรุด|2024-03-05 13:42:...|https://storage.g...|https://storage.g...|13.76132|100.47038| บางกอกน้อย|  บางขุนศรี|        []|\n",
      "|2022-3UFAJ3|สีเส้นไม่ชัดเจน #...|2024-03-05 11:52:...|https://storage.g...|https://storage.g...|13.72428|100.56703|    คลองเตย|    คลองตัน|        []|\n",
      "|2022-7HP3A3|ไม่มีเส้นชะลอความ...|2024-03-05 11:53:...|https://storage.g...|https://storage.g...|13.75313|100.62035|    บางกะปิ|    หัวหมาก|        []|\n",
      "|2022-BRXJRY|ไม่มีไฟสัญญาณ #ทา...|2024-03-05 11:53:...|https://storage.g...|https://storage.g...|13.75313|100.62035|    บางกะปิ|    หัวหมาก|        []|\n",
      "|2022-HTFWFF|พิกัด หน้าโรงเรีย...|2024-03-10 07:47:...|https://storage.g...|https://storage.g...|13.81481|100.51813|    บางซื่อ|    บางซื่อ|        []|\n",
      "|2022-FCGFT3|พิกัด หน้าโรงเรีย...|2024-03-05 11:54:...|https://storage.g...|https://storage.g...|13.81481|100.51813|    บางซื่อ|    บางซื่อ|        []|\n",
      "|2022-9ECRVP|สีเส้นไม่ชัดเจน #...|2024-03-05 11:55:...|https://storage.g...|https://storage.g...|13.68747|100.49231|ราษฎร์บูรณะ|   บางปะกอก|        []|\n",
      "|2022-FBGUU3|เกาะกลาง เสาสะพาน...|2025-01-03 05:05:...|https://storage.g...|https://storage.g...|13.76143|100.55538|     ดินแดง|     ดินแดง|        []|\n",
      "|2022-K6TKN3|ไม่มีไฟสัญญาณ #ทา...|2024-04-19 07:05:...|https://storage.g...|https://storage.g...|13.74281|100.52996|    ปทุมวัน|    ปทุมวัน|        []|\n",
      "+-----------+--------------------+--------------------+--------------------+--------------------+--------+---------+-----------+-----------+----------+\n",
      "only showing top 20 rows\n",
      "\n"
     ]
    }
   ],
   "execution_count": 47
  },
  {
   "metadata": {
    "ExecuteTime": {
     "end_time": "2025-05-07T09:38:35.058538Z",
     "start_time": "2025-05-07T09:38:35.052440Z"
    }
   },
   "cell_type": "code",
   "source": [
    "from pyspark.sql.types import StructType, StructField, StringType, TimestampType, ArrayType, DoubleType, FloatType\n",
    "\n",
    "complaint_schema = StructType([\n",
    "    StructField(\"ticket_id\", StringType(), nullable=False, metadata={\"description\": \"Ticket ID\"}),\n",
    "    StructField(\"complaint\", StringType(), nullable=False, metadata={\"description\": \"Complaint text\"}),\n",
    "    StructField(\"timestamp\", TimestampType(), nullable=False, metadata={\"description\": \"Timestamp of complaint\"}),\n",
    "    StructField(\"image\", StringType(), nullable=False, metadata={\"description\": \"Image URL\"}),\n",
    "    StructField(\"image_after\", StringType(), nullable=False, metadata={\"description\": \"Image URL after processing\"}),\n",
    "    StructField(\"latitude\", DoubleType(), nullable=False, metadata={\"description\": \"Latitude\"}),\n",
    "    StructField(\"longitude\", DoubleType(), nullable=False, metadata={\"description\": \"Longitude\"}),\n",
    "    StructField(\"district\", StringType(), nullable=False,\n",
    "                metadata={\"description\": \"District\", \"ml_attr_type\": \"nominal\"}),\n",
    "    StructField(\"subdistrict\", StringType(), nullable=False,\n",
    "                metadata={\"description\": \"Subdistrict\", \"ml_attr_type\": \"nominal\"}),\n",
    "    StructField(\"categories\", ArrayType(StringType()), nullable=False, metadata={\"description\": \"Categories\"}),\n",
    "    StructField(\"categories_idx\", ArrayType(FloatType()), nullable=False,\n",
    "                metadata={\"description\": \"Categories indices\"}),\n",
    "])"
   ],
   "id": "81d5e0af7864b09f",
   "outputs": [],
   "execution_count": 62
  },
  {
   "metadata": {
    "ExecuteTime": {
     "end_time": "2025-05-07T09:38:45.180464Z",
     "start_time": "2025-05-07T09:38:36.298337Z"
    }
   },
   "cell_type": "code",
   "source": [
    "null_analysis = result_df.select(\n",
    "    *[F.count(F.when(F.col(c).isNull(), c)).alias(f\"{c}_null_count\") for c in result_df.columns],\n",
    ")\n",
    "null_analysis.show(truncate=False)"
   ],
   "id": "627ef3e84a5568fe",
   "outputs": [
    {
     "name": "stderr",
     "output_type": "stream",
     "text": [
      "[Stage 153:>                                                      (0 + 10) / 11]\r"
     ]
    },
    {
     "name": "stdout",
     "output_type": "stream",
     "text": [
      "+--------------------+--------------------+--------------------+----------------+----------------------+-------------------+--------------------+-------------------+----------------------+---------------------+-------------------------+\n",
      "|ticket_id_null_count|complaint_null_count|timestamp_null_count|image_null_count|image_after_null_count|latitude_null_count|longitude_null_count|district_null_count|subdistrict_null_count|categories_null_count|categories_idx_null_count|\n",
      "+--------------------+--------------------+--------------------+----------------+----------------------+-------------------+--------------------+-------------------+----------------------+---------------------+-------------------------+\n",
      "|4862                |4862                |0                   |58              |0                     |0                  |0                   |320                |318                   |0                    |0                        |\n",
      "+--------------------+--------------------+--------------------+----------------+----------------------+-------------------+--------------------+-------------------+----------------------+---------------------+-------------------------+\n",
      "\n"
     ]
    },
    {
     "name": "stderr",
     "output_type": "stream",
     "text": [
      "                                                                                \r"
     ]
    }
   ],
   "execution_count": 63
  },
  {
   "metadata": {
    "ExecuteTime": {
     "end_time": "2025-05-07T09:38:56.129375Z",
     "start_time": "2025-05-07T09:38:45.226584Z"
    }
   },
   "cell_type": "code",
   "source": [
    "from pyspark.sql import functions as F\n",
    "\n",
    "# Step 1: Get list of non-nullable columns from your DataFrame schema\n",
    "non_nullable_columns = [field.name for field in complaint_schema.fields if not field.nullable]\n",
    "\n",
    "# Step 2: Print the non-nullable columns for verification\n",
    "print(\"Non-nullable columns:\", non_nullable_columns)\n",
    "\n",
    "# Step 3: Create a filter condition to keep only rows without nulls in these columns\n",
    "# This builds a condition like: col1 IS NOT NULL AND col2 IS NOT NULL AND...\n",
    "if non_nullable_columns:\n",
    "    filter_condition = \" AND \".join([f\"{col} IS NOT NULL\" for col in non_nullable_columns])\n",
    "\n",
    "    # Step 4: Apply the filter to drop rows with nulls in non-nullable columns\n",
    "    cleaned_df = result_df.filter(filter_condition)\n",
    "\n",
    "    # Step 5: Check how many rows were dropped\n",
    "    original_count = result_df.count()\n",
    "    cleaned_count = cleaned_df.count()\n",
    "    print(f\"Original row count: {original_count}\")\n",
    "    print(f\"Cleaned row count: {cleaned_count}\")\n",
    "    print(f\"Dropped {original_count - cleaned_count} rows with nulls in non-nullable columns\")\n",
    "else:\n",
    "    print(\"No non-nullable columns found in schema\")\n",
    "    cleaned_df = result_df"
   ],
   "id": "1c7cfc3de2b93a55",
   "outputs": [
    {
     "name": "stdout",
     "output_type": "stream",
     "text": [
      "Non-nullable columns: ['ticket_id', 'complaint', 'timestamp', 'image', 'image_after', 'latitude', 'longitude', 'district', 'subdistrict', 'categories', 'categories_idx']\n"
     ]
    },
    {
     "name": "stderr",
     "output_type": "stream",
     "text": [
      "[Stage 163:>                                                        (0 + 1) / 1]\r"
     ]
    },
    {
     "name": "stdout",
     "output_type": "stream",
     "text": [
      "Original row count: 531791\n",
      "Cleaned row count: 526552\n",
      "Dropped 5239 rows with nulls in non-nullable columns\n"
     ]
    },
    {
     "name": "stderr",
     "output_type": "stream",
     "text": [
      "                                                                                \r"
     ]
    }
   ],
   "execution_count": 64
  },
  {
   "metadata": {
    "ExecuteTime": {
     "end_time": "2025-05-07T09:39:03.013584Z",
     "start_time": "2025-05-07T09:38:56.159944Z"
    }
   },
   "cell_type": "code",
   "source": [
    "null_analysis = cleaned_df.select(\n",
    "    *[F.count(F.when(F.col(c).isNull(), c)).alias(f\"{c}_null_count\") for c in result_df.columns],\n",
    ")\n",
    "null_analysis.show(truncate=False)"
   ],
   "id": "93460427e38d662a",
   "outputs": [
    {
     "name": "stderr",
     "output_type": "stream",
     "text": [
      "[Stage 169:>                                                        (0 + 1) / 1]\r"
     ]
    },
    {
     "name": "stdout",
     "output_type": "stream",
     "text": [
      "+--------------------+--------------------+--------------------+----------------+----------------------+-------------------+--------------------+-------------------+----------------------+---------------------+-------------------------+\n",
      "|ticket_id_null_count|complaint_null_count|timestamp_null_count|image_null_count|image_after_null_count|latitude_null_count|longitude_null_count|district_null_count|subdistrict_null_count|categories_null_count|categories_idx_null_count|\n",
      "+--------------------+--------------------+--------------------+----------------+----------------------+-------------------+--------------------+-------------------+----------------------+---------------------+-------------------------+\n",
      "|0                   |0                   |0                   |0               |0                     |0                  |0                   |0                  |0                     |0                    |0                        |\n",
      "+--------------------+--------------------+--------------------+----------------+----------------------+-------------------+--------------------+-------------------+----------------------+---------------------+-------------------------+\n",
      "\n"
     ]
    },
    {
     "name": "stderr",
     "output_type": "stream",
     "text": [
      "                                                                                \r"
     ]
    }
   ],
   "execution_count": 65
  },
  {
   "metadata": {
    "ExecuteTime": {
     "end_time": "2025-05-07T09:39:10.732670Z",
     "start_time": "2025-05-07T09:39:03.046630Z"
    }
   },
   "cell_type": "code",
   "source": [
    "structure_df = spark.createDataFrame(cleaned_df.rdd, schema=complaint_schema)\n",
    "structure_df.show()"
   ],
   "id": "782f38884222ad3c",
   "outputs": [
    {
     "name": "stderr",
     "output_type": "stream",
     "text": [
      "[Stage 175:>                                                        (0 + 1) / 1]\r"
     ]
    },
    {
     "name": "stdout",
     "output_type": "stream",
     "text": [
      "+-----------+--------------------+--------------------+--------------------+--------------------+--------+---------+-----------+-----------+--------------------+-----------------+\n",
      "|  ticket_id|           complaint|           timestamp|               image|         image_after|latitude|longitude|   district|subdistrict|          categories|   categories_idx|\n",
      "+-----------+--------------------+--------------------+--------------------+--------------------+--------+---------+-----------+-----------+--------------------+-----------------+\n",
      "|2021-CGPMUN|น้ำท่วมเวลาฝนตกแล...|2022-06-21 08:21:...|https://storage.g...|https://storage.g...|13.67891|100.66709|     ประเวศ|    หนองบอน|[น้ำท่วม, ร้องเรียน]|     [12.0, 15.0]|\n",
      "|2022-FX8UWF|เเจ้งเรื่อง เสียง...|2022-12-01 09:39:...|https://storage.g...|https://storage.g...|13.82443|100.59393|   ลาดพร้าว|   ลาดพร้าว|        [เสียงรบกวน]|           [22.0]|\n",
      "|2022-9PH3BZ|1. ซ่อมสายไฟ กรีด...|2022-06-29 08:47:...|https://storage.g...|https://storage.g...| 13.7186|100.65286|     ประเวศ|     ประเวศ|    [ทางเท้า, สายไฟ]|     [10.0, 19.0]|\n",
      "|2022-6E7ANR|ในซอยไม่มีทางเท้า...|2024-03-06 02:34:...|https://storage.g...|https://storage.g...|13.67398|100.49442|ราษฎร์บูรณะ|   บางปะกอก|           [ทางเท้า]|           [10.0]|\n",
      "|2022-K3TZH9|ขยะถูกกองเอามาทิ้...|2024-03-06 06:21:...|https://storage.g...|https://storage.g...| 13.7122|100.42759|  ภาษีเจริญ|    บางหว้า|         [ความสะอาด]|            [6.0]|\n",
      "|2022-6D42VG|พื้นที่ทิ้งขยะเกะ...|2024-03-08 01:07:...|https://storage.g...|https://storage.g...|13.69068|100.61258|    พระโขนง|     บางจาก|           [ทางเท้า]|           [10.0]|\n",
      "|2022-48FAE2|เห็นเศษไม้ เศษก้อ...|2022-07-25 06:41:...|https://storage.g...|https://storage.g...|13.74958|100.53138|    ราชเทวี|ถนนเพชรบุรี|             [สะพาน]|           [17.0]|\n",
      "|2022-98WYHW|เส้นทางแยกบางโพ ม...|2022-10-17 08:55:...|https://storage.g...|https://storage.g...| 13.8065|100.52175|    บางซื่อ|    บางซื่อ|           [ทางเท้า]|           [10.0]|\n",
      "|2022-4KFBZ7|มีหน่วยงานมาขุดถน...|2022-06-17 01:57:...|https://storage.g...|https://storage.g...|13.79002|100.54732|      พญาไท|   สามเสนใน|               [ถนน]|            [9.0]|\n",
      "|2022-7QRRNZ|หมู่บ้าน The Cent...|2023-12-07 02:20:...|https://storage.g...|https://storage.g...|13.91011|100.67498|     สายไหม|     ออเงิน|      [น้ำท่วม, ถนน]|      [12.0, 9.0]|\n",
      "|2022-EHVH7T|ฟุตบาทไม่เรียบ ง่...|2023-02-13 10:43:...|https://storage.g...|https://storage.g...|13.81821| 100.5631|    จตุจักร|    จตุจักร|           [ทางเท้า]|           [10.0]|\n",
      "|2022-8L3UXR|แจ้งปรับปรุงทางเท...|2023-07-29 04:47:...|https://storage.g...|https://storage.g...|13.81542|100.56132|    จตุจักร|    จตุจักร|    [ทางเท้า, สายไฟ]|     [10.0, 19.0]|\n",
      "|2022-G6Z696|รถมอเตอร์ไซค์จอดข...|2022-06-16 07:17:...|https://storage.g...|https://storage.g...|13.77007|100.55942|     ดินแดง|     ดินแดง|           [กีดขวาง]|            [2.0]|\n",
      "|2022-EQBAEP|ชาวบ้านมักมาทิ้งข...|2022-06-22 15:24:...|https://storage.g...|https://storage.g...|13.75572|100.56312|     ดินแดง|     ดินแดง|         [ความสะอาด]|            [6.0]|\n",
      "|2022-N7YC9Q|  ขยะที่แยกสะพานควาย|2022-08-08 10:29:...|https://storage.g...|https://storage.g...| 13.7895|100.54805|      พญาไท|   สามเสนใน|  [ความสะอาด, สะพาน]|      [6.0, 17.0]|\n",
      "|2022-KT2PCC|ขอร้องเรื่องน้ำท่...|2022-06-10 11:46:...|https://storage.g...|https://storage.g...|13.91672|100.57644|   ดอนเมือง|   ดอนเมือง|[น้ำท่วม, ท่อระบา...|[12.0, 11.0, 9.0]|\n",
      "|2022-4H8DBZ|บริเวณสะพานลอยใกล...|2022-06-23 00:31:...|https://storage.g...|https://storage.g...|13.79517|100.55007|    จตุจักร|    จตุจักร|  [สะพาน, ความสะอาด]|      [17.0, 6.0]|\n",
      "|2022-AR2QAN|ช่วงเร่งคืนพื้นที...|2022-09-01 06:29:...|https://storage.g...|https://storage.g...|13.88035| 100.5884|    หลักสี่| ตลาดบางเขน|        [จราจร, ถนน]|       [7.0, 9.0]|\n",
      "|2022-AVFEK3|เละเทะมาเป็นปีๆเด...|2024-10-17 05:11:...|https://storage.g...|https://storage.g...|13.78817|100.49604|    บางพลัด|    บางพลัด|       [ความปลอดภัย]|            [5.0]|\n",
      "|2022-7QZ8W2|1. พื้นผิวถนนพระร...|2023-07-29 04:57:...|https://storage.g...|https://storage.g...|13.69344| 100.5473|    ยานนาวา|  ช่องนนทรี|               [ถนน]|            [9.0]|\n",
      "+-----------+--------------------+--------------------+--------------------+--------------------+--------+---------+-----------+-----------+--------------------+-----------------+\n",
      "only showing top 20 rows\n",
      "\n"
     ]
    },
    {
     "name": "stderr",
     "output_type": "stream",
     "text": [
      "                                                                                \r"
     ]
    }
   ],
   "execution_count": 66
  },
  {
   "metadata": {
    "ExecuteTime": {
     "end_time": "2025-05-07T09:39:15.956548Z",
     "start_time": "2025-05-07T09:39:15.953159Z"
    }
   },
   "cell_type": "code",
   "source": "structure_df.printSchema()",
   "id": "c32726f78d43f2b7",
   "outputs": [
    {
     "name": "stdout",
     "output_type": "stream",
     "text": [
      "root\n",
      " |-- ticket_id: string (nullable = false)\n",
      " |-- complaint: string (nullable = false)\n",
      " |-- timestamp: timestamp (nullable = false)\n",
      " |-- image: string (nullable = false)\n",
      " |-- image_after: string (nullable = false)\n",
      " |-- latitude: double (nullable = false)\n",
      " |-- longitude: double (nullable = false)\n",
      " |-- district: string (nullable = false)\n",
      " |-- subdistrict: string (nullable = false)\n",
      " |-- categories: array (nullable = false)\n",
      " |    |-- element: string (containsNull = true)\n",
      " |-- categories_idx: array (nullable = false)\n",
      " |    |-- element: float (containsNull = true)\n",
      "\n"
     ]
    }
   ],
   "execution_count": 68
  },
  {
   "metadata": {
    "ExecuteTime": {
     "end_time": "2025-05-07T07:55:11.920640Z",
     "start_time": "2025-05-07T07:54:40.709949Z"
    }
   },
   "cell_type": "code",
   "source": "structure_df.write.mode(\"overwrite\").parquet(\"s3a://traffy-troffi/spark/traffy/fondue\")",
   "id": "f3d4ad6c61eb46c0",
   "outputs": [
    {
     "name": "stderr",
     "output_type": "stream",
     "text": [
      "25/05/07 14:54:41 WARN MemoryManager: Total allocation exceeds 95.00% (1,020,054,720 bytes) of heap memory\n",
      "Scaling row group sizes to 95.00% for 8 writers\n",
      "25/05/07 14:54:41 WARN MemoryManager: Total allocation exceeds 95.00% (1,020,054,720 bytes) of heap memory\n",
      "Scaling row group sizes to 84.44% for 9 writers\n",
      "25/05/07 14:54:41 WARN MemoryManager: Total allocation exceeds 95.00% (1,020,054,720 bytes) of heap memory\n",
      "Scaling row group sizes to 76.00% for 10 writers\n",
      "25/05/07 14:55:08 WARN MemoryManager: Total allocation exceeds 95.00% (1,020,054,720 bytes) of heap memory\n",
      "Scaling row group sizes to 84.44% for 9 writers\n",
      "25/05/07 14:55:08 WARN MemoryManager: Total allocation exceeds 95.00% (1,020,054,720 bytes) of heap memory\n",
      "Scaling row group sizes to 95.00% for 8 writers\n",
      "                                                                                \r"
     ]
    }
   ],
   "execution_count": 58
  },
  {
   "metadata": {
    "ExecuteTime": {
     "end_time": "2025-05-07T10:45:53.756161Z",
     "start_time": "2025-05-07T10:45:23.200232Z"
    }
   },
   "cell_type": "code",
   "source": [
    "structure_df.write.mode(\"append\").jdbc(table='traffy_fondue',\n",
    "                                       url=\"jdbc:postgresql://localhost:5432/traffy-troffi\",\n",
    "                                       properties={\"user\": \"postgres\", \"password\": \"troffi\",\n",
    "                                                   \"driver\": \"org.postgresql.Driver\",\n",
    "                                                   \"currentSchema\": \"public\"})"
   ],
   "id": "f0cfa7253b1573fa",
   "outputs": [
    {
     "name": "stderr",
     "output_type": "stream",
     "text": [
      "                                                                                \r"
     ]
    }
   ],
   "execution_count": 70
  },
  {
   "metadata": {},
   "cell_type": "code",
   "outputs": [],
   "execution_count": null,
   "source": "",
   "id": "c3e05e698debed69"
  }
 ],
 "metadata": {
  "kernelspec": {
   "display_name": "Python 3",
   "language": "python",
   "name": "python3"
  },
  "language_info": {
   "codemirror_mode": {
    "name": "ipython",
    "version": 2
   },
   "file_extension": ".py",
   "mimetype": "text/x-python",
   "name": "python",
   "nbconvert_exporter": "python",
   "pygments_lexer": "ipython2",
   "version": "2.7.6"
  }
 },
 "nbformat": 4,
 "nbformat_minor": 5
}
